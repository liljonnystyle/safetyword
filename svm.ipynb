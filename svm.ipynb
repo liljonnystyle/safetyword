{
 "metadata": {
  "name": "",
  "signature": "sha256:772b866606414b987d2ccbb003f5198c5030e4d1721edfddcfd4aadc492a6a4c"
 },
 "nbformat": 3,
 "nbformat_minor": 0,
 "worksheets": [
  {
   "cells": [
    {
     "cell_type": "code",
     "collapsed": false,
     "input": [
      "%pylab inline"
     ],
     "language": "python",
     "metadata": {},
     "outputs": [
      {
       "output_type": "stream",
       "stream": "stdout",
       "text": [
        "Populating the interactive namespace from numpy and matplotlib\n"
       ]
      }
     ],
     "prompt_number": 1
    },
    {
     "cell_type": "code",
     "collapsed": false,
     "input": [
      "df = pd.read_csv('data/training.csv')\n",
      "df = df.set_index('EventId')\n",
      "for i in xrange(30):\n",
      "    df = df[df.iloc[:,i] >= -998]\n",
      "df['Label_bin'] = np.where(df['Label'] == 's', 1, 0)\n",
      "# cols = ['DER_mass_transverse_met_lep','DER_pt_h','DER_deltaeta_jet_jet','DER_mass_jet_jet','DER_prodeta_jet_jet',\n",
      "#         'DER_pt_tot','DER_pt_ratio_lep_tau','DER_met_phi_centrality','DER_lep_eta_centrality','PRI_tau_pt','PRI_jet_num','Label_bin']\n",
      "cols = ['DER_mass_transverse_met_lep','DER_deltaeta_jet_jet','DER_met_phi_centrality','DER_lep_eta_centrality','Label_bin']\n",
      "goddf = df[cols]"
     ],
     "language": "python",
     "metadata": {},
     "outputs": [],
     "prompt_number": 2
    },
    {
     "cell_type": "code",
     "collapsed": false,
     "input": [
      "#from sklearn.grid_search import GridSearchCV\n",
      "from sklearn import svm \n",
      "from sklearn import cross_validation\n",
      "from sklearn.grid_search import GridSearchCV as grid\n"
     ],
     "language": "python",
     "metadata": {},
     "outputs": [],
     "prompt_number": 3
    },
    {
     "cell_type": "code",
     "collapsed": false,
     "input": [
      "X = np.array(goddf.iloc[:10000,:-1])\n",
      "Y = np.array(goddf.iloc[:10000,-1])"
     ],
     "language": "python",
     "metadata": {},
     "outputs": [],
     "prompt_number": 4
    },
    {
     "cell_type": "code",
     "collapsed": false,
     "input": [
      "params = {'C': list(np.linspace(2,10,5)) , 'gamma': list(np.linspace(0.03,0.05,)) }\n",
      "testVM = svm.SVC(class_weight=\"auto\")\n",
      "# testVM.fit(X, Y)\n",
      "gridS = grid(testVM, param_grid = params, scoring = 'accuracy', cv = 4, verbose = 5, n_jobs=2)\n",
      "#test_score = np.mean(cross_validation.cross_val_score(testVM, X, Y, cv=5, scoring=\"accuracy\"))\n",
      "gridS.fit(X, Y)\n",
      "print \"Accuracy: \" + str(gridS.best_params_)"
     ],
     "language": "python",
     "metadata": {},
     "outputs": [
      {
       "output_type": "stream",
       "stream": "stdout",
       "text": [
        "Fitting 4 folds for each of 16 candidates, totalling 64 fits\n",
        "[GridSearchCV] C=1.0, gamma=0.01 ...............................................\n",
        "[GridSearchCV] ...................... C=1.0, gamma=0.01, score=0.675200 -   2.8s"
       ]
      },
      {
       "output_type": "stream",
       "stream": "stdout",
       "text": [
        "\n",
        "[GridSearchCV] C=1.0, gamma=0.01 ...............................................\n",
        "[GridSearchCV] ...................... C=1.0, gamma=0.01, score=0.678400 -   2.8s"
       ]
      },
      {
       "output_type": "stream",
       "stream": "stdout",
       "text": [
        "\n",
        "[GridSearchCV] C=1.0, gamma=0.01 ...............................................\n",
        "[GridSearchCV] ...................... C=1.0, gamma=0.01, score=0.663600 -   2.8s"
       ]
      },
      {
       "output_type": "stream",
       "stream": "stdout",
       "text": [
        "\n",
        "[GridSearchCV] C=1.0, gamma=0.01 ...............................................\n",
        "[GridSearchCV] ...................... C=1.0, gamma=0.01, score=0.696000 -   2.8s"
       ]
      },
      {
       "output_type": "stream",
       "stream": "stdout",
       "text": [
        "\n",
        "[GridSearchCV] C=1.0, gamma=0.0215443469003 ....................................\n",
        "[GridSearchCV] ........... C=1.0, gamma=0.0215443469003, score=0.680800 -   2.9s"
       ]
      },
      {
       "output_type": "stream",
       "stream": "stdout",
       "text": [
        "\n",
        "[GridSearchCV] C=1.0, gamma=0.0215443469003 ....................................\n",
        "[GridSearchCV] ........... C=1.0, gamma=0.0215443469003, score=0.684400 -   2.9s"
       ]
      },
      {
       "output_type": "stream",
       "stream": "stdout",
       "text": [
        "\n",
        "[GridSearchCV] C=1.0, gamma=0.0215443469003 ....................................\n",
        "[GridSearchCV] ........... C=1.0, gamma=0.0215443469003, score=0.665200 -   2.8s"
       ]
      },
      {
       "output_type": "stream",
       "stream": "stdout",
       "text": [
        "\n",
        "[GridSearchCV] C=1.0, gamma=0.0215443469003 ....................................\n",
        "[GridSearchCV] ........... C=1.0, gamma=0.0215443469003, score=0.702000 -   3.0s"
       ]
      },
      {
       "output_type": "stream",
       "stream": "stdout",
       "text": [
        "\n",
        "[GridSearchCV] C=1.0, gamma=0.0464158883361 ....................................\n",
        "[GridSearchCV] ........... C=1.0, gamma=0.0464158883361, score=0.686400 -   2.9s"
       ]
      },
      {
       "output_type": "stream",
       "stream": "stdout",
       "text": [
        "\n",
        "[GridSearchCV] C=1.0, gamma=0.0464158883361 ....................................\n",
        "[GridSearchCV] ........... C=1.0, gamma=0.0464158883361, score=0.681600 -   2.9s"
       ]
      },
      {
       "output_type": "stream",
       "stream": "stdout",
       "text": [
        "\n",
        "[GridSearchCV] C=1.0, gamma=0.0464158883361 ....................................\n",
        "[GridSearchCV] ........... C=1.0, gamma=0.0464158883361, score=0.669200 -   2.9s"
       ]
      },
      {
       "output_type": "stream",
       "stream": "stdout",
       "text": [
        "\n",
        "[GridSearchCV] C=1.0, gamma=0.0464158883361 ....................................\n",
        "[GridSearchCV] ........... C=1.0, gamma=0.0464158883361, score=0.703600 -   2.9s"
       ]
      },
      {
       "output_type": "stream",
       "stream": "stdout",
       "text": [
        "\n",
        "[GridSearchCV] C=1.0, gamma=0.1 ................................................\n",
        "[GridSearchCV] ....................... C=1.0, gamma=0.1, score=0.686000 -   3.1s"
       ]
      },
      {
       "output_type": "stream",
       "stream": "stdout",
       "text": [
        "\n",
        "[GridSearchCV] C=1.0, gamma=0.1 ................................................\n",
        "[GridSearchCV] ....................... C=1.0, gamma=0.1, score=0.678000 -   3.1s"
       ]
      },
      {
       "output_type": "stream",
       "stream": "stdout",
       "text": [
        "\n",
        "[GridSearchCV] C=1.0, gamma=0.1 ................................................\n",
        "[GridSearchCV] ....................... C=1.0, gamma=0.1, score=0.674000 -   3.0s"
       ]
      },
      {
       "output_type": "stream",
       "stream": "stdout",
       "text": [
        "\n",
        "[GridSearchCV] C=1.0, gamma=0.1 ................................................\n",
        "[GridSearchCV] ....................... C=1.0, gamma=0.1, score=0.701600 -   3.1s"
       ]
      },
      {
       "output_type": "stream",
       "stream": "stdout",
       "text": [
        "\n",
        "[GridSearchCV] C=2.15443469003, gamma=0.01 .....................................\n",
        "[GridSearchCV] ............ C=2.15443469003, gamma=0.01, score=0.678400 -   2.8s"
       ]
      },
      {
       "output_type": "stream",
       "stream": "stdout",
       "text": [
        "\n",
        "[GridSearchCV] C=2.15443469003, gamma=0.01 .....................................\n",
        "[GridSearchCV] ............ C=2.15443469003, gamma=0.01, score=0.684400 -   2.8s"
       ]
      },
      {
       "output_type": "stream",
       "stream": "stderr",
       "text": [
        "[Parallel(n_jobs=1)]: Done   1 jobs       | elapsed:    2.8s\n",
        "[Parallel(n_jobs=1)]: Done  18 jobs       | elapsed:   52.2s\n"
       ]
      },
      {
       "output_type": "stream",
       "stream": "stdout",
       "text": [
        "\n",
        "[GridSearchCV] C=2.15443469003, gamma=0.01 .....................................\n",
        "[GridSearchCV] ............ C=2.15443469003, gamma=0.01, score=0.667600 -   2.8s"
       ]
      },
      {
       "output_type": "stream",
       "stream": "stdout",
       "text": [
        "\n",
        "[GridSearchCV] C=2.15443469003, gamma=0.01 .....................................\n",
        "[GridSearchCV] ............ C=2.15443469003, gamma=0.01, score=0.700400 -   2.7s"
       ]
      },
      {
       "output_type": "stream",
       "stream": "stdout",
       "text": [
        "\n",
        "[GridSearchCV] C=2.15443469003, gamma=0.0215443469003 ..........................\n",
        "[GridSearchCV] . C=2.15443469003, gamma=0.0215443469003, score=0.680000 -   2.9s"
       ]
      },
      {
       "output_type": "stream",
       "stream": "stdout",
       "text": [
        "\n",
        "[GridSearchCV] C=2.15443469003, gamma=0.0215443469003 ..........................\n",
        "[GridSearchCV] . C=2.15443469003, gamma=0.0215443469003, score=0.684800 -   2.9s"
       ]
      },
      {
       "output_type": "stream",
       "stream": "stdout",
       "text": [
        "\n",
        "[GridSearchCV] C=2.15443469003, gamma=0.0215443469003 ..........................\n",
        "[GridSearchCV] . C=2.15443469003, gamma=0.0215443469003, score=0.668800 -   2.8s"
       ]
      },
      {
       "output_type": "stream",
       "stream": "stdout",
       "text": [
        "\n",
        "[GridSearchCV] C=2.15443469003, gamma=0.0215443469003 ..........................\n",
        "[GridSearchCV] . C=2.15443469003, gamma=0.0215443469003, score=0.706000 -   2.8s"
       ]
      },
      {
       "output_type": "stream",
       "stream": "stdout",
       "text": [
        "\n",
        "[GridSearchCV] C=2.15443469003, gamma=0.0464158883361 ..........................\n",
        "[GridSearchCV] . C=2.15443469003, gamma=0.0464158883361, score=0.688400 -   3.0s"
       ]
      },
      {
       "output_type": "stream",
       "stream": "stdout",
       "text": [
        "\n",
        "[GridSearchCV] C=2.15443469003, gamma=0.0464158883361 ..........................\n",
        "[GridSearchCV] . C=2.15443469003, gamma=0.0464158883361, score=0.675600 -   3.0s"
       ]
      },
      {
       "output_type": "stream",
       "stream": "stdout",
       "text": [
        "\n",
        "[GridSearchCV] C=2.15443469003, gamma=0.0464158883361 ..........................\n",
        "[GridSearchCV] . C=2.15443469003, gamma=0.0464158883361, score=0.674800 -   2.9s"
       ]
      },
      {
       "output_type": "stream",
       "stream": "stdout",
       "text": [
        "\n",
        "[GridSearchCV] C=2.15443469003, gamma=0.0464158883361 ..........................\n",
        "[GridSearchCV] . C=2.15443469003, gamma=0.0464158883361, score=0.705200 -   2.9s"
       ]
      },
      {
       "output_type": "stream",
       "stream": "stdout",
       "text": [
        "\n",
        "[GridSearchCV] C=2.15443469003, gamma=0.1 ......................................\n",
        "[GridSearchCV] ............. C=2.15443469003, gamma=0.1, score=0.684400 -   3.1s"
       ]
      },
      {
       "output_type": "stream",
       "stream": "stdout",
       "text": [
        "\n",
        "[GridSearchCV] C=2.15443469003, gamma=0.1 ......................................\n",
        "[GridSearchCV] ............. C=2.15443469003, gamma=0.1, score=0.673600 -   3.1s"
       ]
      },
      {
       "output_type": "stream",
       "stream": "stdout",
       "text": [
        "\n",
        "[GridSearchCV] C=2.15443469003, gamma=0.1 ......................................\n",
        "[GridSearchCV] ............. C=2.15443469003, gamma=0.1, score=0.672800 -   3.1s"
       ]
      },
      {
       "output_type": "stream",
       "stream": "stdout",
       "text": [
        "\n",
        "[GridSearchCV] C=2.15443469003, gamma=0.1 ......................................\n",
        "[GridSearchCV] ............. C=2.15443469003, gamma=0.1, score=0.697600 -   3.1s"
       ]
      },
      {
       "output_type": "stream",
       "stream": "stdout",
       "text": [
        "\n",
        "[GridSearchCV] C=4.64158883361, gamma=0.01 .....................................\n",
        "[GridSearchCV] ............ C=4.64158883361, gamma=0.01, score=0.675200 -   2.8s"
       ]
      },
      {
       "output_type": "stream",
       "stream": "stdout",
       "text": [
        "\n",
        "[GridSearchCV] C=4.64158883361, gamma=0.01 .....................................\n",
        "[GridSearchCV] ............ C=4.64158883361, gamma=0.01, score=0.688000 -   2.8s"
       ]
      },
      {
       "output_type": "stream",
       "stream": "stdout",
       "text": [
        "\n",
        "[GridSearchCV] C=4.64158883361, gamma=0.01 .....................................\n",
        "[GridSearchCV] ............ C=4.64158883361, gamma=0.01, score=0.668400 -   2.8s"
       ]
      },
      {
       "output_type": "stream",
       "stream": "stdout",
       "text": [
        "\n",
        "[GridSearchCV] C=4.64158883361, gamma=0.01 .....................................\n",
        "[GridSearchCV] ............ C=4.64158883361, gamma=0.01, score=0.702800 -   2.7s"
       ]
      },
      {
       "output_type": "stream",
       "stream": "stdout",
       "text": [
        "\n",
        "[GridSearchCV] C=4.64158883361, gamma=0.0215443469003 ..........................\n",
        "[GridSearchCV] . C=4.64158883361, gamma=0.0215443469003, score=0.678000 -   2.9s"
       ]
      },
      {
       "output_type": "stream",
       "stream": "stdout",
       "text": [
        "\n",
        "[GridSearchCV] C=4.64158883361, gamma=0.0215443469003 ..........................\n",
        "[GridSearchCV] . C=4.64158883361, gamma=0.0215443469003, score=0.684800 -   2.9s"
       ]
      },
      {
       "output_type": "stream",
       "stream": "stdout",
       "text": [
        "\n",
        "[GridSearchCV] C=4.64158883361, gamma=0.0215443469003 ..........................\n",
        "[GridSearchCV] . C=4.64158883361, gamma=0.0215443469003, score=0.671600 -   2.9s"
       ]
      },
      {
       "output_type": "stream",
       "stream": "stdout",
       "text": [
        "\n",
        "[GridSearchCV] C=4.64158883361, gamma=0.0215443469003 ..........................\n",
        "[GridSearchCV] . C=4.64158883361, gamma=0.0215443469003, score=0.707600 -   2.9s"
       ]
      },
      {
       "output_type": "stream",
       "stream": "stdout",
       "text": [
        "\n",
        "[GridSearchCV] C=4.64158883361, gamma=0.0464158883361 ..........................\n",
        "[GridSearchCV] . C=4.64158883361, gamma=0.0464158883361, score=0.688400 -   3.2s"
       ]
      },
      {
       "output_type": "stream",
       "stream": "stdout",
       "text": [
        "\n",
        "[GridSearchCV] C=4.64158883361, gamma=0.0464158883361 ..........................\n",
        "[GridSearchCV] . C=4.64158883361, gamma=0.0464158883361, score=0.672000 -   3.1s"
       ]
      },
      {
       "output_type": "stream",
       "stream": "stdout",
       "text": [
        "\n",
        "[GridSearchCV] C=4.64158883361, gamma=0.0464158883361 ..........................\n",
        "[GridSearchCV] . C=4.64158883361, gamma=0.0464158883361, score=0.678400 -   3.1s"
       ]
      },
      {
       "output_type": "stream",
       "stream": "stdout",
       "text": [
        "\n",
        "[GridSearchCV] C=4.64158883361, gamma=0.0464158883361 ..........................\n",
        "[GridSearchCV] . C=4.64158883361, gamma=0.0464158883361, score=0.705200 -   3.1s"
       ]
      },
      {
       "output_type": "stream",
       "stream": "stdout",
       "text": [
        "\n",
        "[GridSearchCV] C=4.64158883361, gamma=0.1 ......................................\n",
        "[GridSearchCV] ............. C=4.64158883361, gamma=0.1, score=0.686400 -   3.6s"
       ]
      },
      {
       "output_type": "stream",
       "stream": "stdout",
       "text": [
        "\n",
        "[GridSearchCV] C=4.64158883361, gamma=0.1 ......................................\n",
        "[GridSearchCV] ............. C=4.64158883361, gamma=0.1, score=0.677600 -   3.4s"
       ]
      },
      {
       "output_type": "stream",
       "stream": "stdout",
       "text": [
        "\n",
        "[GridSearchCV] C=4.64158883361, gamma=0.1 ......................................\n",
        "[GridSearchCV] ............. C=4.64158883361, gamma=0.1, score=0.677200 -   3.3s"
       ]
      },
      {
       "output_type": "stream",
       "stream": "stdout",
       "text": [
        "\n",
        "[GridSearchCV] C=4.64158883361, gamma=0.1 ......................................\n",
        "[GridSearchCV] ............. C=4.64158883361, gamma=0.1, score=0.693600 -   3.4s"
       ]
      },
      {
       "output_type": "stream",
       "stream": "stdout",
       "text": [
        "\n",
        "[GridSearchCV] C=10.0, gamma=0.01 ..............................................\n",
        "[GridSearchCV] ..................... C=10.0, gamma=0.01, score=0.676400 -   3.0s"
       ]
      },
      {
       "output_type": "stream",
       "stream": "stdout",
       "text": [
        "\n",
        "[GridSearchCV] C=10.0, gamma=0.01 ..............................................\n",
        "[GridSearchCV] ..................... C=10.0, gamma=0.01, score=0.686800 -   3.1s"
       ]
      },
      {
       "output_type": "stream",
       "stream": "stdout",
       "text": [
        "\n",
        "[GridSearchCV] C=10.0, gamma=0.01 ..............................................\n",
        "[GridSearchCV] ..................... C=10.0, gamma=0.01, score=0.673200 -   3.3s"
       ]
      },
      {
       "output_type": "stream",
       "stream": "stdout",
       "text": [
        "\n",
        "[GridSearchCV] C=10.0, gamma=0.01 ..............................................\n",
        "[GridSearchCV] ..................... C=10.0, gamma=0.01, score=0.704000 -   3.0s"
       ]
      },
      {
       "output_type": "stream",
       "stream": "stdout",
       "text": [
        "\n",
        "[GridSearchCV] C=10.0, gamma=0.0215443469003 ...................................\n",
        "[GridSearchCV] .......... C=10.0, gamma=0.0215443469003, score=0.688000 -   3.4s"
       ]
      },
      {
       "output_type": "stream",
       "stream": "stdout",
       "text": [
        "\n",
        "[GridSearchCV] C=10.0, gamma=0.0215443469003 ...................................\n",
        "[GridSearchCV] .......... C=10.0, gamma=0.0215443469003, score=0.678400 -   3.3s"
       ]
      },
      {
       "output_type": "stream",
       "stream": "stdout",
       "text": [
        "\n",
        "[GridSearchCV] C=10.0, gamma=0.0215443469003 ...................................\n",
        "[GridSearchCV] .......... C=10.0, gamma=0.0215443469003, score=0.673200 -   3.3s"
       ]
      },
      {
       "output_type": "stream",
       "stream": "stdout",
       "text": [
        "\n",
        "[GridSearchCV] C=10.0, gamma=0.0215443469003 ...................................\n",
        "[GridSearchCV] .......... C=10.0, gamma=0.0215443469003, score=0.704400 -   3.4s"
       ]
      },
      {
       "output_type": "stream",
       "stream": "stdout",
       "text": [
        "\n",
        "[GridSearchCV] C=10.0, gamma=0.0464158883361 ...................................\n",
        "[GridSearchCV] .......... C=10.0, gamma=0.0464158883361, score=0.687600 -   3.6s"
       ]
      },
      {
       "output_type": "stream",
       "stream": "stdout",
       "text": [
        "\n",
        "[GridSearchCV] C=10.0, gamma=0.0464158883361 ...................................\n",
        "[GridSearchCV] .......... C=10.0, gamma=0.0464158883361, score=0.673600 -   3.5s"
       ]
      },
      {
       "output_type": "stream",
       "stream": "stdout",
       "text": [
        "\n",
        "[GridSearchCV] C=10.0, gamma=0.0464158883361 ...................................\n",
        "[GridSearchCV] .......... C=10.0, gamma=0.0464158883361, score=0.677200 -   3.5s"
       ]
      },
      {
       "output_type": "stream",
       "stream": "stdout",
       "text": [
        "\n",
        "[GridSearchCV] C=10.0, gamma=0.0464158883361 ...................................\n",
        "[GridSearchCV] .......... C=10.0, gamma=0.0464158883361, score=0.700400 -   3.5s"
       ]
      },
      {
       "output_type": "stream",
       "stream": "stdout",
       "text": [
        "\n",
        "[GridSearchCV] C=10.0, gamma=0.1 ...............................................\n",
        "[GridSearchCV] ...................... C=10.0, gamma=0.1, score=0.681600 -   3.7s"
       ]
      },
      {
       "output_type": "stream",
       "stream": "stdout",
       "text": [
        "\n",
        "[GridSearchCV] C=10.0, gamma=0.1 ...............................................\n",
        "[GridSearchCV] ...................... C=10.0, gamma=0.1, score=0.680800 -   3.8s"
       ]
      },
      {
       "output_type": "stream",
       "stream": "stdout",
       "text": [
        "\n",
        "[GridSearchCV] C=10.0, gamma=0.1 ...............................................\n",
        "[GridSearchCV] ...................... C=10.0, gamma=0.1, score=0.670800 -   3.7s"
       ]
      },
      {
       "output_type": "stream",
       "stream": "stdout",
       "text": [
        "\n",
        "[GridSearchCV] C=10.0, gamma=0.1 ...............................................\n",
        "[GridSearchCV] ...................... C=10.0, gamma=0.1, score=0.691600 -   3.7s"
       ]
      },
      {
       "output_type": "stream",
       "stream": "stdout",
       "text": [
        "\n",
        "Accuracy: {'C': 2.1544346900318838, 'gamma': 0.046415888336127774}"
       ]
      },
      {
       "output_type": "stream",
       "stream": "stdout",
       "text": [
        "\n"
       ]
      },
      {
       "output_type": "stream",
       "stream": "stderr",
       "text": [
        "[Parallel(n_jobs=1)]: Done  64 out of  64 | elapsed:  3.3min finished\n"
       ]
      }
     ],
     "prompt_number": 9
    },
    {
     "cell_type": "code",
     "collapsed": false,
     "input": [
      "gridS.grid_scores_"
     ],
     "language": "python",
     "metadata": {},
     "outputs": [
      {
       "metadata": {},
       "output_type": "pyout",
       "prompt_number": 10,
       "text": [
        "[mean: 0.67830, std: 0.01161, params: {'C': 1.0, 'gamma': 0.01},\n",
        " mean: 0.68310, std: 0.01308, params: {'C': 1.0, 'gamma': 0.021544346900318832},\n",
        " mean: 0.68520, std: 0.01234, params: {'C': 1.0, 'gamma': 0.046415888336127774},\n",
        " mean: 0.68490, std: 0.01057, params: {'C': 1.0, 'gamma': 0.10000000000000001},\n",
        " mean: 0.68270, std: 0.01186, params: {'C': 2.1544346900318838, 'gamma': 0.01},\n",
        " mean: 0.68490, std: 0.01349, params: {'C': 2.1544346900318838, 'gamma': 0.021544346900318832},\n",
        " mean: 0.68600, std: 0.01233, params: {'C': 2.1544346900318838, 'gamma': 0.046415888336127774},\n",
        " mean: 0.68210, std: 0.01005, params: {'C': 2.1544346900318838, 'gamma': 0.10000000000000001},\n",
        " mean: 0.68360, std: 0.01313, params: {'C': 4.6415888336127784, 'gamma': 0.01},\n",
        " mean: 0.68550, std: 0.01359, params: {'C': 4.6415888336127784, 'gamma': 0.021544346900318832},\n",
        " mean: 0.68600, std: 0.01253, params: {'C': 4.6415888336127784, 'gamma': 0.046415888336127774},\n",
        " mean: 0.68370, std: 0.00680, params: {'C': 4.6415888336127784, 'gamma': 0.10000000000000001},\n",
        " mean: 0.68510, std: 0.01201, params: {'C': 10.0, 'gamma': 0.01},\n",
        " mean: 0.68600, std: 0.01188, params: {'C': 10.0, 'gamma': 0.021544346900318832},\n",
        " mean: 0.68470, std: 0.01042, params: {'C': 10.0, 'gamma': 0.046415888336127774},\n",
        " mean: 0.68120, std: 0.00736, params: {'C': 10.0, 'gamma': 0.10000000000000001}]"
       ]
      }
     ],
     "prompt_number": 10
    },
    {
     "cell_type": "code",
     "collapsed": false,
     "input": [
      "import GodsPipe2 as gp\n",
      "params = {'C': list(np.linspace(2,10,5)) , 'gamma': list(np.linspace(0.03,0.05,5)) }\n",
      "gp.pipeline(X,Y, 'rbf', params, (False, 0))"
     ],
     "language": "python",
     "metadata": {},
     "outputs": [
      {
       "output_type": "stream",
       "stream": "stdout",
       "text": [
        "Fitting 2 folds for each of 25 candidates, totalling 50 fits\n"
       ]
      }
     ]
    },
    {
     "cell_type": "code",
     "collapsed": false,
     "input": [
      "list(np.logspace(0,1,5))"
     ],
     "language": "python",
     "metadata": {},
     "outputs": [
      {
       "metadata": {},
       "output_type": "pyout",
       "prompt_number": 7,
       "text": [
        "[1.0, 1.7782794100389228, 3.1622776601683795, 5.6234132519034912, 10.0]"
       ]
      }
     ],
     "prompt_number": 7
    },
    {
     "cell_type": "code",
     "collapsed": false,
     "input": [],
     "language": "python",
     "metadata": {},
     "outputs": []
    }
   ],
   "metadata": {}
  }
 ]
}