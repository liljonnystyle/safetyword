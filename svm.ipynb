{
 "metadata": {
  "name": "",
  "signature": "sha256:5802356b3a6ca11e7b753e4ae2465795bd98b635bfc042a2d32d85b455892bbf"
 },
 "nbformat": 3,
 "nbformat_minor": 0,
 "worksheets": [
  {
   "cells": [
    {
     "cell_type": "code",
     "collapsed": false,
     "input": [
      "%pylab inline"
     ],
     "language": "python",
     "metadata": {},
     "outputs": [
      {
       "output_type": "stream",
       "stream": "stdout",
       "text": [
        "Populating the interactive namespace from numpy and matplotlib\n"
       ]
      }
     ],
     "prompt_number": 1
    },
    {
     "cell_type": "code",
     "collapsed": false,
     "input": [
      "df = pd.read_csv('data/training.csv')\n",
      "df = df.set_index('EventId')\n",
      "for i in xrange(30):\n",
      "    df = df[df.iloc[:,i] >= -998]\n",
      "df['Label_bin'] = np.where(df['Label'] == 's', 1, 0)\n",
      "# cols = ['DER_mass_transverse_met_lep','DER_pt_h','DER_deltaeta_jet_jet','DER_mass_jet_jet','DER_prodeta_jet_jet',\n",
      "#         'DER_pt_tot','DER_pt_ratio_lep_tau','DER_met_phi_centrality','DER_lep_eta_centrality','PRI_tau_pt','PRI_jet_num','Label_bin']\n",
      "cols = ['DER_mass_transverse_met_lep','DER_deltaeta_jet_jet','DER_met_phi_centrality','DER_lep_eta_centrality','Label_bin']\n",
      "goddf = df[cols]\n",
      "\n",
      "dftest = pd.read_csv('data/test.csv')\n",
      "\n",
      "colstest = ['DER_mass_transverse_met_lep','DER_deltaeta_jet_jet','DER_met_phi_centrality','DER_lep_eta_centrality']\n",
      "dftest = dftest[colstest]"
     ],
     "language": "python",
     "metadata": {},
     "outputs": [],
     "prompt_number": 19
    },
    {
     "cell_type": "code",
     "collapsed": false,
     "input": [
      "#from sklearn.grid_search import GridSearchCV\n",
      "from sklearn import svm \n",
      "from sklearn import cross_validation\n",
      "from sklearn.grid_search import GridSearchCV as grid\n"
     ],
     "language": "python",
     "metadata": {},
     "outputs": [],
     "prompt_number": 3
    },
    {
     "cell_type": "code",
     "collapsed": false,
     "input": [
      "X = np.array(goddf.iloc[:30000,:-1])\n",
      "Y = np.array(goddf.iloc[:30000,-1])"
     ],
     "language": "python",
     "metadata": {},
     "outputs": [],
     "prompt_number": 14
    },
    {
     "cell_type": "code",
     "collapsed": false,
     "input": [
      "params = {'C': list(np.linspace(2,10,4)) , 'gamma': list(np.linspace(0.03,0.05,4)) }\n",
      "testVM = svm.SVC(class_weight=\"auto\")\n",
      "# testVM.fit(X, Y)\n",
      "gridS = grid(testVM, param_grid = params, scoring = 'accuracy', cv = 2, verbose = 5, n_jobs=4)\n",
      "#test_score = np.mean(cross_validation.cross_val_score(testVM, X, Y, cv=5, scoring=\"accuracy\"))\n",
      "gridS.fit(X, Y)\n",
      "print \"Accuracy: \" + str(gridS.best_params_)"
     ],
     "language": "python",
     "metadata": {},
     "outputs": [
      {
       "output_type": "stream",
       "stream": "stdout",
       "text": [
        "Fitting 2 folds for each of 16 candidates, totalling 32 fits\n"
       ]
      },
      {
       "output_type": "stream",
       "stream": "stderr",
       "text": [
        "[Parallel(n_jobs=4)]: Done   1 jobs       | elapsed:   23.4s\n",
        "[Parallel(n_jobs=4)]: Done  18 jobs       | elapsed:  2.0min\n",
        "[Parallel(n_jobs=4)]: Done  26 out of  32 | elapsed:  2.9min remaining:   39.6s\n",
        "[Parallel(n_jobs=4)]: Done  32 out of  32 | elapsed:  3.3min finished\n"
       ]
      },
      {
       "output_type": "stream",
       "stream": "stdout",
       "text": [
        "Accuracy: {'C': 10.0, 'gamma': 0.029999999999999999}\n",
        "[GridSearchCV] C=2.0, gamma=0.03 ...............................................\n",
        "[GridSearchCV] C=2.0, gamma=0.03 ...............................................\n",
        "[GridSearchCV] C=2.0, gamma=0.0366666666667 ....................................\n",
        "[GridSearchCV] C=2.0, gamma=0.0366666666667 ....................................\n",
        "[GridSearchCV] ...................... C=2.0, gamma=0.03, score=0.685067 -  23.4s[GridSearchCV] ...................... C=2.0, gamma=0.03, score=0.687267 -  23.8s[GridSearchCV] ........... C=2.0, gamma=0.0366666666667, score=0.685400 -  23.8s[GridSearchCV] ........... C=2.0, gamma=0.0366666666667, score=0.690067 -  24.1s\n",
        "\n",
        "\n",
        "\n",
        "[GridSearchCV] C=2.0, gamma=0.0433333333333 ....................................\n",
        "[GridSearchCV] C=2.0, gamma=0.05 ...............................................\n",
        "[GridSearchCV] C=2.0, gamma=0.0433333333333 ....................................\n",
        "[GridSearchCV] C=2.0, gamma=0.05 ...............................................\n",
        "[GridSearchCV] ........... C=2.0, gamma=0.0433333333333, score=0.685067 -  23.9s[GridSearchCV] ...................... C=2.0, gamma=0.05, score=0.685200 -  24.1s[GridSearchCV] ........... C=2.0, gamma=0.0433333333333, score=0.688933 -  24.2s[GridSearchCV] ...................... C=2.0, gamma=0.05, score=0.689267 -  24.5s\n",
        "\n",
        "\n",
        "\n",
        "[GridSearchCV] C=4.66666666667, gamma=0.03 .....................................\n",
        "[GridSearchCV] C=4.66666666667, gamma=0.03 .....................................\n",
        "[GridSearchCV] C=4.66666666667, gamma=0.0366666666667 ..........................\n",
        "[GridSearchCV] C=4.66666666667, gamma=0.0366666666667 ..........................\n",
        "[GridSearchCV] ............ C=4.66666666667, gamma=0.03, score=0.686067 -  24.1s[GridSearchCV] ............ C=4.66666666667, gamma=0.03, score=0.690400 -  24.4s[GridSearchCV] . C=4.66666666667, gamma=0.0366666666667, score=0.685200 -  24.4s[GridSearchCV] . C=4.66666666667, gamma=0.0366666666667, score=0.690733 -  24.5s\n",
        "\n",
        "\n",
        "\n",
        "[GridSearchCV] C=4.66666666667, gamma=0.0433333333333 ..........................\n",
        "[GridSearchCV] C=4.66666666667, gamma=0.0433333333333 ..........................\n",
        "[GridSearchCV] C=4.66666666667, gamma=0.05 .....................................\n",
        "[GridSearchCV] C=4.66666666667, gamma=0.05 .....................................\n",
        "[GridSearchCV] . C=4.66666666667, gamma=0.0433333333333, score=0.685867 -  24.3s[GridSearchCV] . C=4.66666666667, gamma=0.0433333333333, score=0.690000 -  25.0s[GridSearchCV] ............ C=4.66666666667, gamma=0.05, score=0.685533 -  24.6s[GridSearchCV] ............ C=4.66666666667, gamma=0.05, score=0.689400 -  24.8s\n",
        "\n",
        "\n",
        "\n",
        "[GridSearchCV] C=7.33333333333, gamma=0.03 .....................................\n",
        "[GridSearchCV] C=7.33333333333, gamma=0.0366666666667 ..........................\n",
        "[GridSearchCV] C=7.33333333333, gamma=0.03 .....................................\n",
        "[GridSearchCV] C=7.33333333333, gamma=0.0366666666667 ..........................\n",
        "[GridSearchCV] ............ C=7.33333333333, gamma=0.03, score=0.685400 -  24.4s[GridSearchCV] . C=7.33333333333, gamma=0.0366666666667, score=0.686200 -  25.3s[GridSearchCV] ............ C=7.33333333333, gamma=0.03, score=0.691133 -  25.4s[GridSearchCV] . C=7.33333333333, gamma=0.0366666666667, score=0.690067 -  25.4s\n",
        "\n",
        "\n",
        "\n",
        "[GridSearchCV] C=7.33333333333, gamma=0.0433333333333 ..........................\n",
        "[GridSearchCV] C=7.33333333333, gamma=0.05 .....................................\n",
        "[GridSearchCV] C=7.33333333333, gamma=0.0433333333333 ..........................\n",
        "[GridSearchCV] C=7.33333333333, gamma=0.05 .....................................\n",
        "[GridSearchCV] . C=7.33333333333, gamma=0.0433333333333, score=0.685467 -  24.5s[GridSearchCV] ............ C=7.33333333333, gamma=0.05, score=0.686000 -  24.9s[GridSearchCV] . C=7.33333333333, gamma=0.0433333333333, score=0.689533 -  24.6s[GridSearchCV] ............ C=7.33333333333, gamma=0.05, score=0.688133 -  24.6s\n",
        "\n",
        "\n",
        "\n",
        "[GridSearchCV] C=10.0, gamma=0.03 ..............................................\n",
        "[GridSearchCV] C=10.0, gamma=0.0366666666667 ...................................\n",
        "[GridSearchCV] C=10.0, gamma=0.03 ..............................................\n",
        "[GridSearchCV] C=10.0, gamma=0.0366666666667 ...................................\n",
        "[GridSearchCV] ..................... C=10.0, gamma=0.03, score=0.687000 -  24.2s[GridSearchCV] .......... C=10.0, gamma=0.0366666666667, score=0.686733 -  25.2s[GridSearchCV] ..................... C=10.0, gamma=0.03, score=0.691400 -  24.6s[GridSearchCV] .......... C=10.0, gamma=0.0366666666667, score=0.689133 -  25.1s\n",
        "\n",
        "\n",
        "\n",
        "[GridSearchCV] C=10.0, gamma=0.0433333333333 ...................................\n",
        "[GridSearchCV] C=10.0, gamma=0.05 ..............................................\n",
        "[GridSearchCV] C=10.0, gamma=0.0433333333333 ...................................\n",
        "[GridSearchCV] C=10.0, gamma=0.05 ..............................................\n",
        "[GridSearchCV] .......... C=10.0, gamma=0.0433333333333, score=0.685733 -  25.4s[GridSearchCV] ..................... C=10.0, gamma=0.05, score=0.686200 -  25.3s[GridSearchCV] .......... C=10.0, gamma=0.0433333333333, score=0.688800 -  25.3s[GridSearchCV] ..................... C=10.0, gamma=0.05, score=0.687200 -  25.2s\n",
        "\n",
        "\n",
        "\n"
       ]
      }
     ],
     "prompt_number": 9
    },
    {
     "cell_type": "code",
     "collapsed": false,
     "input": [
      "gridS.grid_scores_"
     ],
     "language": "python",
     "metadata": {},
     "outputs": [
      {
       "metadata": {},
       "output_type": "pyout",
       "prompt_number": 10,
       "text": [
        "[mean: 0.68617, std: 0.00110, params: {'C': 2.0, 'gamma': 0.029999999999999999},\n",
        " mean: 0.68773, std: 0.00233, params: {'C': 2.0, 'gamma': 0.036666666666666667},\n",
        " mean: 0.68700, std: 0.00193, params: {'C': 2.0, 'gamma': 0.043333333333333335},\n",
        " mean: 0.68723, std: 0.00203, params: {'C': 2.0, 'gamma': 0.050000000000000003},\n",
        " mean: 0.68823, std: 0.00217, params: {'C': 4.6666666666666661, 'gamma': 0.029999999999999999},\n",
        " mean: 0.68797, std: 0.00277, params: {'C': 4.6666666666666661, 'gamma': 0.036666666666666667},\n",
        " mean: 0.68793, std: 0.00207, params: {'C': 4.6666666666666661, 'gamma': 0.043333333333333335},\n",
        " mean: 0.68747, std: 0.00193, params: {'C': 4.6666666666666661, 'gamma': 0.050000000000000003},\n",
        " mean: 0.68827, std: 0.00287, params: {'C': 7.333333333333333, 'gamma': 0.029999999999999999},\n",
        " mean: 0.68813, std: 0.00193, params: {'C': 7.333333333333333, 'gamma': 0.036666666666666667},\n",
        " mean: 0.68750, std: 0.00203, params: {'C': 7.333333333333333, 'gamma': 0.043333333333333335},\n",
        " mean: 0.68707, std: 0.00107, params: {'C': 7.333333333333333, 'gamma': 0.050000000000000003},\n",
        " mean: 0.68920, std: 0.00220, params: {'C': 10.0, 'gamma': 0.029999999999999999},\n",
        " mean: 0.68793, std: 0.00120, params: {'C': 10.0, 'gamma': 0.036666666666666667},\n",
        " mean: 0.68727, std: 0.00153, params: {'C': 10.0, 'gamma': 0.043333333333333335},\n",
        " mean: 0.68670, std: 0.00050, params: {'C': 10.0, 'gamma': 0.050000000000000003}]"
       ]
      }
     ],
     "prompt_number": 10
    },
    {
     "cell_type": "code",
     "collapsed": false,
     "input": [
      "# import GodsPipe2 as gp\n",
      "# params = {'C': list(np.linspace(2,10,5)) , 'gamma': list(np.linspace(0.03,0.05,5)) }\n",
      "# gp.pipeline(X,Y, 'rbf', params, (False, 0))"
     ],
     "language": "python",
     "metadata": {},
     "outputs": [],
     "prompt_number": 7
    },
    {
     "cell_type": "code",
     "collapsed": false,
     "input": [
      "dftest.head()"
     ],
     "language": "python",
     "metadata": {},
     "outputs": [
      {
       "html": [
        "<div style=\"max-height:1000px;max-width:1500px;overflow:auto;\">\n",
        "<table border=\"1\" class=\"dataframe\">\n",
        "  <thead>\n",
        "    <tr style=\"text-align: right;\">\n",
        "      <th></th>\n",
        "      <th>DER_mass_transverse_met_lep</th>\n",
        "      <th>DER_deltaeta_jet_jet</th>\n",
        "      <th>DER_met_phi_centrality</th>\n",
        "      <th>DER_lep_eta_centrality</th>\n",
        "    </tr>\n",
        "  </thead>\n",
        "  <tbody>\n",
        "    <tr>\n",
        "      <th>0</th>\n",
        "      <td> 79.589</td>\n",
        "      <td>-999.000</td>\n",
        "      <td>-1.404</td>\n",
        "      <td>-999.000</td>\n",
        "    </tr>\n",
        "    <tr>\n",
        "      <th>1</th>\n",
        "      <td> 67.490</td>\n",
        "      <td>-999.000</td>\n",
        "      <td>-1.204</td>\n",
        "      <td>-999.000</td>\n",
        "    </tr>\n",
        "    <tr>\n",
        "      <th>2</th>\n",
        "      <td> 56.226</td>\n",
        "      <td>-999.000</td>\n",
        "      <td>-1.408</td>\n",
        "      <td>-999.000</td>\n",
        "    </tr>\n",
        "    <tr>\n",
        "      <th>3</th>\n",
        "      <td> 30.604</td>\n",
        "      <td>-999.000</td>\n",
        "      <td>-1.382</td>\n",
        "      <td>-999.000</td>\n",
        "    </tr>\n",
        "    <tr>\n",
        "      <th>4</th>\n",
        "      <td> 82.772</td>\n",
        "      <td>   1.347</td>\n",
        "      <td>-0.913</td>\n",
        "      <td>   0.004</td>\n",
        "    </tr>\n",
        "  </tbody>\n",
        "</table>\n",
        "<p>5 rows \u00d7 4 columns</p>\n",
        "</div>"
       ],
       "metadata": {},
       "output_type": "pyout",
       "prompt_number": 33,
       "text": [
        "   DER_mass_transverse_met_lep  DER_deltaeta_jet_jet  DER_met_phi_centrality  \\\n",
        "0                       79.589              -999.000                  -1.404   \n",
        "1                       67.490              -999.000                  -1.204   \n",
        "2                       56.226              -999.000                  -1.408   \n",
        "3                       30.604              -999.000                  -1.382   \n",
        "4                       82.772                 1.347                  -0.913   \n",
        "\n",
        "   DER_lep_eta_centrality  \n",
        "0                -999.000  \n",
        "1                -999.000  \n",
        "2                -999.000  \n",
        "3                -999.000  \n",
        "4                   0.004  \n",
        "\n",
        "[5 rows x 4 columns]"
       ]
      }
     ],
     "prompt_number": 33
    },
    {
     "cell_type": "code",
     "collapsed": false,
     "input": [
      "xtest = np.array(dftest)\n",
      "print X.shape, xtest.shape"
     ],
     "language": "python",
     "metadata": {},
     "outputs": [
      {
       "output_type": "stream",
       "stream": "stdout",
       "text": [
        "(30000, 4) (550000, 4)\n"
       ]
      }
     ],
     "prompt_number": 23
    },
    {
     "cell_type": "code",
     "collapsed": false,
     "input": [
      "testVM = svm.SVC(class_weight=\"auto\",C=10.0,gamma=0.03)\n",
      "testVM.fit(X, Y)\n",
      "yhat = testVM.predict(xtest)"
     ],
     "language": "python",
     "metadata": {},
     "outputs": [],
     "prompt_number": 24
    },
    {
     "cell_type": "code",
     "collapsed": false,
     "input": [
      "dftest = pd.read_csv('data/test.csv')\n",
      "firstcol = np.array(dftest['EventId'],dtype='int')\n",
      "firstcol.shape"
     ],
     "language": "python",
     "metadata": {},
     "outputs": [
      {
       "metadata": {},
       "output_type": "pyout",
       "prompt_number": 69,
       "text": [
        "(550000,)"
       ]
      }
     ],
     "prompt_number": 69
    },
    {
     "cell_type": "code",
     "collapsed": false,
     "input": [
      "seccol = range(1,550001,1)\n",
      "seccol = np.array(seccol)\n",
      "seccol.shape"
     ],
     "language": "python",
     "metadata": {},
     "outputs": [
      {
       "metadata": {},
       "output_type": "pyout",
       "prompt_number": 74,
       "text": [
        "(550000,)"
       ]
      }
     ],
     "prompt_number": 74
    },
    {
     "cell_type": "code",
     "collapsed": false,
     "input": [
      "thirdcol = np.where(yhat == 0, 'b', 's')\n",
      "thirdcol"
     ],
     "language": "python",
     "metadata": {},
     "outputs": [
      {
       "metadata": {},
       "output_type": "pyout",
       "prompt_number": 66,
       "text": [
        "array(['b', 'b', 'b', ..., 'b', 'b', 'b'], \n",
        "      dtype='|S1')"
       ]
      }
     ],
     "prompt_number": 66
    },
    {
     "cell_type": "code",
     "collapsed": false,
     "input": [
      "stuff = pd.DataFrame(np.vstack((firstcol, seccol)).T)"
     ],
     "language": "python",
     "metadata": {},
     "outputs": [],
     "prompt_number": 75
    },
    {
     "cell_type": "code",
     "collapsed": false,
     "input": [
      "stuff.head()"
     ],
     "language": "python",
     "metadata": {},
     "outputs": [
      {
       "html": [
        "<div style=\"max-height:1000px;max-width:1500px;overflow:auto;\">\n",
        "<table border=\"1\" class=\"dataframe\">\n",
        "  <thead>\n",
        "    <tr style=\"text-align: right;\">\n",
        "      <th></th>\n",
        "      <th>0</th>\n",
        "      <th>1</th>\n",
        "    </tr>\n",
        "  </thead>\n",
        "  <tbody>\n",
        "    <tr>\n",
        "      <th>0</th>\n",
        "      <td> 350000</td>\n",
        "      <td> 1</td>\n",
        "    </tr>\n",
        "    <tr>\n",
        "      <th>1</th>\n",
        "      <td> 350001</td>\n",
        "      <td> 2</td>\n",
        "    </tr>\n",
        "    <tr>\n",
        "      <th>2</th>\n",
        "      <td> 350002</td>\n",
        "      <td> 3</td>\n",
        "    </tr>\n",
        "    <tr>\n",
        "      <th>3</th>\n",
        "      <td> 350003</td>\n",
        "      <td> 4</td>\n",
        "    </tr>\n",
        "    <tr>\n",
        "      <th>4</th>\n",
        "      <td> 350004</td>\n",
        "      <td> 5</td>\n",
        "    </tr>\n",
        "  </tbody>\n",
        "</table>\n",
        "<p>5 rows \u00d7 2 columns</p>\n",
        "</div>"
       ],
       "metadata": {},
       "output_type": "pyout",
       "prompt_number": 76,
       "text": [
        "        0  1\n",
        "0  350000  1\n",
        "1  350001  2\n",
        "2  350002  3\n",
        "3  350003  4\n",
        "4  350004  5\n",
        "\n",
        "[5 rows x 2 columns]"
       ]
      }
     ],
     "prompt_number": 76
    },
    {
     "cell_type": "code",
     "collapsed": false,
     "input": [
      "stuff['2'] = pd.Series(thirdcol)"
     ],
     "language": "python",
     "metadata": {},
     "outputs": [],
     "prompt_number": 77
    },
    {
     "cell_type": "code",
     "collapsed": false,
     "input": [
      "stuff.head()"
     ],
     "language": "python",
     "metadata": {},
     "outputs": [
      {
       "html": [
        "<div style=\"max-height:1000px;max-width:1500px;overflow:auto;\">\n",
        "<table border=\"1\" class=\"dataframe\">\n",
        "  <thead>\n",
        "    <tr style=\"text-align: right;\">\n",
        "      <th></th>\n",
        "      <th>0</th>\n",
        "      <th>1</th>\n",
        "      <th>2</th>\n",
        "    </tr>\n",
        "  </thead>\n",
        "  <tbody>\n",
        "    <tr>\n",
        "      <th>0</th>\n",
        "      <td> 350000</td>\n",
        "      <td> 1</td>\n",
        "      <td> b</td>\n",
        "    </tr>\n",
        "    <tr>\n",
        "      <th>1</th>\n",
        "      <td> 350001</td>\n",
        "      <td> 2</td>\n",
        "      <td> b</td>\n",
        "    </tr>\n",
        "    <tr>\n",
        "      <th>2</th>\n",
        "      <td> 350002</td>\n",
        "      <td> 3</td>\n",
        "      <td> b</td>\n",
        "    </tr>\n",
        "    <tr>\n",
        "      <th>3</th>\n",
        "      <td> 350003</td>\n",
        "      <td> 4</td>\n",
        "      <td> b</td>\n",
        "    </tr>\n",
        "    <tr>\n",
        "      <th>4</th>\n",
        "      <td> 350004</td>\n",
        "      <td> 5</td>\n",
        "      <td> b</td>\n",
        "    </tr>\n",
        "  </tbody>\n",
        "</table>\n",
        "<p>5 rows \u00d7 3 columns</p>\n",
        "</div>"
       ],
       "metadata": {},
       "output_type": "pyout",
       "prompt_number": 78,
       "text": [
        "        0  1  2\n",
        "0  350000  1  b\n",
        "1  350001  2  b\n",
        "2  350002  3  b\n",
        "3  350003  4  b\n",
        "4  350004  5  b\n",
        "\n",
        "[5 rows x 3 columns]"
       ]
      }
     ],
     "prompt_number": 78
    },
    {
     "cell_type": "code",
     "collapsed": false,
     "input": [
      "stuff.columns = ['EventId','RankOrder','Class']"
     ],
     "language": "python",
     "metadata": {},
     "outputs": [],
     "prompt_number": 79
    },
    {
     "cell_type": "code",
     "collapsed": false,
     "input": [
      "stuff.head()"
     ],
     "language": "python",
     "metadata": {},
     "outputs": [
      {
       "html": [
        "<div style=\"max-height:1000px;max-width:1500px;overflow:auto;\">\n",
        "<table border=\"1\" class=\"dataframe\">\n",
        "  <thead>\n",
        "    <tr style=\"text-align: right;\">\n",
        "      <th></th>\n",
        "      <th>EventId</th>\n",
        "      <th>RankOrder</th>\n",
        "      <th>Class</th>\n",
        "    </tr>\n",
        "  </thead>\n",
        "  <tbody>\n",
        "    <tr>\n",
        "      <th>0</th>\n",
        "      <td> 350000</td>\n",
        "      <td> 1</td>\n",
        "      <td> b</td>\n",
        "    </tr>\n",
        "    <tr>\n",
        "      <th>1</th>\n",
        "      <td> 350001</td>\n",
        "      <td> 2</td>\n",
        "      <td> b</td>\n",
        "    </tr>\n",
        "    <tr>\n",
        "      <th>2</th>\n",
        "      <td> 350002</td>\n",
        "      <td> 3</td>\n",
        "      <td> b</td>\n",
        "    </tr>\n",
        "    <tr>\n",
        "      <th>3</th>\n",
        "      <td> 350003</td>\n",
        "      <td> 4</td>\n",
        "      <td> b</td>\n",
        "    </tr>\n",
        "    <tr>\n",
        "      <th>4</th>\n",
        "      <td> 350004</td>\n",
        "      <td> 5</td>\n",
        "      <td> b</td>\n",
        "    </tr>\n",
        "  </tbody>\n",
        "</table>\n",
        "<p>5 rows \u00d7 3 columns</p>\n",
        "</div>"
       ],
       "metadata": {},
       "output_type": "pyout",
       "prompt_number": 80,
       "text": [
        "   EventId  RankOrder Class\n",
        "0   350000          1     b\n",
        "1   350001          2     b\n",
        "2   350002          3     b\n",
        "3   350003          4     b\n",
        "4   350004          5     b\n",
        "\n",
        "[5 rows x 3 columns]"
       ]
      }
     ],
     "prompt_number": 80
    },
    {
     "cell_type": "code",
     "collapsed": false,
     "input": [
      "stuff2 = stuff.set_index('EventId')"
     ],
     "language": "python",
     "metadata": {},
     "outputs": [],
     "prompt_number": 81
    },
    {
     "cell_type": "code",
     "collapsed": false,
     "input": [
      "stuff2.to_csv('submission.csv')"
     ],
     "language": "python",
     "metadata": {},
     "outputs": [],
     "prompt_number": 82
    },
    {
     "cell_type": "code",
     "collapsed": false,
     "input": [],
     "language": "python",
     "metadata": {},
     "outputs": []
    }
   ],
   "metadata": {}
  }
 ]
}